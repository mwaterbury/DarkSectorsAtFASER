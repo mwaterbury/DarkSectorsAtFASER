{
 "cells": [
  {
   "cell_type": "code",
   "execution_count": 1,
   "id": "1b00dbb5",
   "metadata": {},
   "outputs": [],
   "source": [
    "import numpy as np\n",
    "import matplotlib\n",
    "import matplotlib.pyplot as plt\n",
    "\n",
    "c = 3 * 10 * 8\n",
    "hbar = 6.6 * 10 ** -16 # eV * s\n",
    "hbar = hbar * 10 ** -9 # GeV * s\n",
    "\n",
    "m_pi0 = 0.135 # GeV\n",
    "m_eta = 0.548 # GeV\n",
    "m_KL  = 0.497 # GeV\n",
    "m_D   = 1.865 # GeV\n",
    "m_B   = 5.280 # GeV"
   ]
  },
  {
   "cell_type": "code",
   "execution_count": 2,
   "id": "4d818c11",
   "metadata": {},
   "outputs": [],
   "source": [
    "gammas = np.logspace(-35,-15)    # Decay rate in GeV\n",
    "ms     = np.linspace(0.01,5,500) # mass in Gev (400 MeV)\n",
    "p      = 10**4                   # momentum in GeV (1 TeV)\n",
    "\n",
    "taus   = hbar / gammas # Lifetime at rest in seconds\n",
    "\n",
    "d     = np.array([[c * tau * p / m for m in ms] for tau in taus])\n",
    "            # Decay length in the lab frame in m\n",
    "\n",
    "L     = 400 # Far distance to FASER (m)\n",
    "delta = 1.5 # Decay length in FASER (m)\n",
    "\n",
    "probDecay = delta/d * np.exp(-L/d)"
   ]
  },
  {
   "cell_type": "code",
   "execution_count": 3,
   "id": "c2aa97cf",
   "metadata": {},
   "outputs": [],
   "source": [
    "def probDecay(gamma, m, p):\n",
    "    tau = hbar/gamma\n",
    "    d = c * tau * p / m\n",
    "    L = 400\n",
    "    delta = 1.5\n",
    "    \n",
    "    return delta/d * np.exp(-L/d)"
   ]
  },
  {
   "cell_type": "code",
   "execution_count": null,
   "id": "12859163",
   "metadata": {},
   "outputs": [],
   "source": [
    "ps = [10**2, 10**3, 10**4]\n",
    "\n",
    "fig = plt.figure(figsize=(6*3,4))\n",
    "\n",
    "i=1\n",
    "for p in ps:\n",
    "    ax = plt.subplot(1,3,i)\n",
    "    probs = np.array([[probDecay(gamma, m, p)\n",
    "                       for m in ms]\n",
    "                       for gamma in gammas])\n",
    "\n",
    "    ax.pcolor(ms, gammas, probs,\n",
    "              norm=matplotlib.colors.LogNorm(vmin=10**-16,vmax=10**-2))\n",
    "    ax.set_xlabel('Mass [GeV]')\n",
    "    ax.set_ylabel('Decay Rate [GeV]')\n",
    "    ax.set_xlim([0.1,3])\n",
    "    ax.set_yscale('log')\n",
    "    i += 1\n"
   ]
  },
  {
   "cell_type": "markdown",
   "id": "827f27b6",
   "metadata": {},
   "source": [
    "### For benchmarking:\n",
    "\n",
    "Estimated from plots in FASER papers from Iftah\n",
    "\n",
    "$$ N_{\\pi^0}(p=10^3, \\theta=10^{-4}) \\sim 10^{14} $$\n",
    "$$ N_{K_L}(p=10^3, \\theta=10^{-4}) \\sim 10^{14-15} $$\n",
    "$$ N_{\\eta}(p=10^3, \\theta=10^{-4}) \\sim 10^{13} $$\n",
    "$$ N_{D_s}(p=10^3, \\theta=10^{-4}) \\sim 10^{11} $$\n",
    "$$ N_{B}(p=10^3, \\theta=10^{-4}) \\sim 10^{9-10} $$\n",
    "\n"
   ]
  },
  {
   "cell_type": "code",
   "execution_count": null,
   "id": "7842162b",
   "metadata": {},
   "outputs": [],
   "source": [
    "N_pi0 = 10**14\n",
    "N_KL = 10**14\n",
    "N_eta = 10**13\n",
    "N_D = 10**11\n",
    "N_B = 10**9"
   ]
  },
  {
   "cell_type": "markdown",
   "id": "17381f35",
   "metadata": {},
   "source": [
    "### Bounds on invisible decays\n",
    "\n",
    "$$ Br(\\pi^0 \\rightarrow \\text{invis.}) \\lesssim 10^{-7} \\qquad \\texttt{[1409.2288]}$$\n",
    "$$ Br(K_L (K_S) \\rightarrow \\text{invis.}) \\lesssim 10^{-4} \\qquad \\texttt{[1409.2288]}\\quad (\\text{From sums})$$\n",
    "$$ Br(\\eta \\rightarrow \\text{invis.}) \\lesssim 10^{-4} \\qquad \\texttt{[1409.2288]}$$\n",
    "\n",
    "Projected future bounds are $10^{-8},10^{-6}(10^{-8}), 10^{-7}$ for $\\pi^0, K_L (K_S), \\eta$ respectively (https://arxiv.org/abs/1409.2288). Note paper is dated 2018 despite the 2014 arXiv number. Are these the up to date bounds?\n",
    "\n",
    "$$ Br(\\omega \\rightarrow \\text{invis.}) \\lesssim 10^{-5} \\qquad \\texttt{[1805.05613]}$$\n",
    "$$ Br(\\phi \\rightarrow \\text{invis.}) \\lesssim 10^{-4} \\qquad \\texttt{[1805.05613]}$$\n",
    "\n",
    "BESIII results in 2018 (https://arxiv.org/abs/1805.05613)\n",
    "\n",
    "$$ Br(B^0 \\rightarrow \\text{invis.}) \\lesssim 10^{-5} \\qquad \\texttt{[1206.2543]}$$\n",
    "\n",
    "BABAR and Belle bounds from 2012 (https://arxiv.org/abs/1206.2543, https://arxiv.org/abs/1206.5948)\n",
    "\n",
    "$$ Br(D^0 \\rightarrow \\text{invis.}) \\lesssim 10^{-5} \\qquad \\texttt{[1808.10567]} $$\n",
    "\n",
    "Belle bound in 2018 (https://arxiv.org/abs/1808.10567). Future projections of order $10^-8$."
   ]
  },
  {
   "cell_type": "code",
   "execution_count": null,
   "id": "4ef25776",
   "metadata": {},
   "outputs": [],
   "source": [
    "Br_pi0 = 10**-7\n",
    "Br_KL = 10**-4\n",
    "Br_eta = 10**-4\n",
    "Br_D = 10**-5\n",
    "Br_B = 10**-5"
   ]
  },
  {
   "cell_type": "code",
   "execution_count": null,
   "id": "2a05eb72",
   "metadata": {},
   "outputs": [],
   "source": [
    "p = 10**3\n",
    "\n",
    "probs = np.array([[probDecay(gamma, m, p)\n",
    "                       for m in ms]\n",
    "                       for gamma in gammas])\n",
    "\n",
    "pi0_Decays = probs * N_pi0 * Br_pi0\n",
    "KL_Decays = probs * N_KL * Br_KL\n",
    "eta_Decays = probs * N_eta * Br_eta\n",
    "D_Decays = probs * N_D * Br_D\n",
    "B_Decays = probs * N_B * Br_B"
   ]
  },
  {
   "cell_type": "code",
   "execution_count": null,
   "id": "d84be06f",
   "metadata": {},
   "outputs": [],
   "source": [
    "plt.pcolor(ms, gammas, pi0_Decays,\n",
    "          norm=matplotlib.colors.LogNorm(vmin=1))\n",
    "plt.xlabel('Mass [GeV]')\n",
    "plt.ylabel('Decay Rate [GeV]')\n",
    "plt.xlim([0.01,0.1])\n",
    "plt.yscale('log')\n",
    "plt.colorbar();"
   ]
  },
  {
   "cell_type": "code",
   "execution_count": null,
   "id": "fcb44411",
   "metadata": {},
   "outputs": [],
   "source": [
    "plt.pcolor(ms, gammas, KL_Decays,\n",
    "          norm=matplotlib.colors.LogNorm(vmin=1))\n",
    "plt.xlabel('Mass [GeV]')\n",
    "plt.ylabel('Decay Rate [GeV]')\n",
    "plt.xlim([0.01,0.5])\n",
    "plt.yscale('log')\n",
    "plt.colorbar();"
   ]
  },
  {
   "cell_type": "code",
   "execution_count": null,
   "id": "6fd8818e",
   "metadata": {},
   "outputs": [],
   "source": [
    "plt.pcolor(ms, gammas, eta_Decays,\n",
    "          norm=matplotlib.colors.LogNorm(vmin=1))\n",
    "plt.xlabel('Mass [GeV]')\n",
    "plt.ylabel('Decay Rate [GeV]')\n",
    "plt.xlim([0.01,0.5])\n",
    "plt.yscale('log')\n",
    "plt.colorbar();"
   ]
  },
  {
   "cell_type": "code",
   "execution_count": null,
   "id": "c54f7ec6",
   "metadata": {},
   "outputs": [],
   "source": [
    "plt.pcolor(ms, gammas, D_Decays,\n",
    "          norm=matplotlib.colors.LogNorm(vmin=1))\n",
    "plt.xlabel('Mass [GeV]')\n",
    "plt.ylabel('Decay Rate [GeV]')\n",
    "plt.xlim([0.01,2])\n",
    "plt.yscale('log')\n",
    "plt.colorbar();"
   ]
  },
  {
   "cell_type": "code",
   "execution_count": null,
   "id": "f077b48a",
   "metadata": {},
   "outputs": [],
   "source": [
    "plt.pcolor(ms, gammas, B_Decays,\n",
    "          norm=matplotlib.colors.LogNorm(vmin=1))\n",
    "plt.xlabel('Mass [GeV]')\n",
    "plt.ylabel('Decay Rate [GeV]')\n",
    "plt.xlim([0.01,5])\n",
    "plt.yscale('log')\n",
    "plt.colorbar();"
   ]
  },
  {
   "cell_type": "code",
   "execution_count": null,
   "id": "f6131594",
   "metadata": {},
   "outputs": [],
   "source": [
    "levels = [1, 100, 10000]\n",
    "linestyles = ['solid', 'dashed', 'dotted']\n",
    "\n",
    "fig = plt.figure(figsize=(12,8))\n",
    "\n",
    "[plt.plot([0, 0], [0, 1], color=c) for c in ['r','b','g','m','k']]\n",
    "\n",
    "plt.legend(['$\\\\pi^0$', '$K_L$', '$\\\\eta$', '$D^0$', '$B^0$'], loc='lower right')\n",
    "\n",
    "mass_mask = ms > m_pi0\n",
    "pi0_Decays[:,mass_mask]=0\n",
    "CS = plt.contour(ms, gammas, pi0_Decays, levels=levels,\n",
    "            colors='r',linestyles=linestyles)\n",
    "# plt.clabel(CS,inline=1,fontsize=10)\n",
    "\n",
    "mass_mask = ms > m_KL\n",
    "KL_Decays[:,mass_mask] = 0\n",
    "plt.contour(ms, gammas, KL_Decays, levels=levels,\n",
    "            colors='b',linestyles=linestyles)\n",
    "\n",
    "mass_mask = ms > m_eta\n",
    "eta_Decays[:,mass_mask] = 0\n",
    "plt.contour(ms, gammas, eta_Decays, levels=levels,\n",
    "            colors='g',linestyles=linestyles)\n",
    "\n",
    "mass_mask = ms > m_D\n",
    "D_Decays[:,mass_mask] = 0\n",
    "plt.contour(ms, gammas, D_Decays, levels=levels,\n",
    "            colors='m',linestyles=linestyles)\n",
    "\n",
    "mass_mask = ms > m_B\n",
    "B_Decays[:,mass_mask] = 0\n",
    "plt.contour(ms, gammas, B_Decays, levels=levels,\n",
    "            colors='k',linestyles=linestyles)\n",
    "\n",
    "plt.xlim([0.01,1])\n",
    "plt.ylim([10**-29,10**-17])\n",
    "plt.xlabel('Mass  [GeV]')\n",
    "plt.ylabel('Decay Rate [GeV]')\n",
    "# plt.xscale('log')\n",
    "plt.yscale('log')\n",
    "\n",
    "plt.annotate(' solid = 1 event \\n dashed = $10^2$ events \\n dotted = $10^4$ events', (0.75, 1.5*10**-29))\n",
    "\n",
    "plt.title('Benchmarks for observation of dark decays at FASER from invisible TeV neutral meson decays at ATLAS');\n",
    "fig.savefig('benchmark.jpg')"
   ]
  },
  {
   "cell_type": "code",
   "execution_count": null,
   "id": "12b94af3",
   "metadata": {},
   "outputs": [],
   "source": []
  }
 ],
 "metadata": {
  "kernelspec": {
   "display_name": "Python 3 (ipykernel)",
   "language": "python",
   "name": "python3"
  },
  "language_info": {
   "codemirror_mode": {
    "name": "ipython",
    "version": 3
   },
   "file_extension": ".py",
   "mimetype": "text/x-python",
   "name": "python",
   "nbconvert_exporter": "python",
   "pygments_lexer": "ipython3",
   "version": "3.9.10"
  }
 },
 "nbformat": 4,
 "nbformat_minor": 5
}
